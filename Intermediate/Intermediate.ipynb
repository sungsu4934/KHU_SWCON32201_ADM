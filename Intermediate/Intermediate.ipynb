{
 "cells": [
  {
   "cell_type": "markdown",
   "metadata": {},
   "source": [
    "# 청건행(16-18) 데이터 불러오기"
   ]
  },
  {
   "cell_type": "code",
   "execution_count": null,
   "metadata": {
    "scrolled": true
   },
   "outputs": [],
   "source": [
    "import pandas as pd \n",
    "import numpy as np\n",
    "df16 = pd.read_sas('kyrbs2016.sas7bdat')\n",
    "df16"
   ]
  },
  {
   "cell_type": "code",
   "execution_count": null,
   "metadata": {},
   "outputs": [],
   "source": [
    "df17 = pd.read_sas('kyrbs2017.sas7bdat')\n",
    "df17"
   ]
  },
  {
   "cell_type": "code",
   "execution_count": null,
   "metadata": {},
   "outputs": [],
   "source": [
    "df18 = pd.read_sas('kyrbs2018.sas7bdat')\n",
    "df18"
   ]
  },
  {
   "cell_type": "markdown",
   "metadata": {},
   "source": [
    "# 청건행 데이터 전처리"
   ]
  },
  {
   "cell_type": "code",
   "execution_count": null,
   "metadata": {},
   "outputs": [],
   "source": [
    "ky18 = pd.concat([df16, df17, df18])"
   ]
  },
  {
   "cell_type": "code",
   "execution_count": null,
   "metadata": {},
   "outputs": [],
   "source": [
    "ky18 = ky18.loc[:,['HT','WT','SEX','AGE','M_SLP_HR','M_SLP_MM','M_WK_HR','M_WK_MM','M_SLP_HR_K','M_SLP_MM_K','M_WK_HR_K','M_WK_MM_K','PR_HT','M_STR','PR_BI','PA_MSC','PA_SWD_S','PA_SWD_N','PA_SWK_S','PA_SWK_N','M_SAD']]"
   ]
  },
  {
   "cell_type": "code",
   "execution_count": null,
   "metadata": {
    "scrolled": true
   },
   "outputs": [],
   "source": [
    "ky18.shape"
   ]
  },
  {
   "cell_type": "code",
   "execution_count": null,
   "metadata": {},
   "outputs": [],
   "source": [
    "# 앉은시간 전처리\n",
    "ky18['SitTime'] = ((ky18['PA_SWD_S'] + ky18['PA_SWD_N'])*5 + (ky18['PA_SWK_S'] + ky18['PA_SWK_N'])*2)/7\n",
    "ky18['SitTime'].describe()"
   ]
  },
  {
   "cell_type": "code",
   "execution_count": null,
   "metadata": {},
   "outputs": [],
   "source": [
    "# 앉은시간 boxplot\n",
    "ky18.boxplot(column = 'SitTime')"
   ]
  },
  {
   "cell_type": "code",
   "execution_count": null,
   "metadata": {},
   "outputs": [],
   "source": [
    "# 인덱스 초기화\n",
    "ky18 = ky18.reset_index()\n",
    "ky18 = ky18.iloc[:,1:]\n",
    "ky18.shape"
   ]
  },
  {
   "cell_type": "code",
   "execution_count": null,
   "metadata": {},
   "outputs": [],
   "source": [
    "# 수면시간 전처리\n",
    "for i in range(len(ky18[\"M_SLP_HR\"])):\n",
    "    if ky18[\"M_SLP_HR\"][i]<=12:\n",
    "        ky18[\"M_SLP_HR\"][i] += 24\n",
    "    else:\n",
    "        pass\n",
    "\n",
    "    if ky18[\"M_WK_HR\"][i]<=12:\n",
    "        ky18[\"M_WK_HR\"][i] +=24\n",
    "    else:\n",
    "        pass\n",
    "\n",
    "for i in range(len(ky18[\"M_SLP_HR\"])):\n",
    "    ky18[\"SLP_WK\"] = (ky18[\"M_WK_HR\"]*60 + ky18[\"M_WK_MM\"])-(ky18[\"M_SLP_HR\"]*60 + ky18[\"M_SLP_MM\"])"
   ]
  },
  {
   "cell_type": "code",
   "execution_count": null,
   "metadata": {},
   "outputs": [],
   "source": [
    "# 평소 스테레스 인지 정도에서 값이 5인 행들 버리기\n",
    "idx_nm = ky18[ky18[\"M_STR\"] == 5].index\n",
    "ky18 = ky18.drop(idx_nm)\n",
    "ky18.shape"
   ]
  },
  {
   "cell_type": "code",
   "execution_count": null,
   "metadata": {},
   "outputs": [],
   "source": [
    "# 2주 이상 연속 우울감 여부 값 바꾸기\n",
    "ky18 = ky18.replace({\"M_SAD\":1},{\"M_SAD\":3})\n",
    "ky18 = ky18.replace({\"M_SAD\":2},{\"M_SAD\":1})\n",
    "ky18 = ky18.replace({\"M_SAD\":3},{\"M_SAD\":2})\n",
    "ky18[\"M_SAD\"].value_counts() # 1:예   2:아니오"
   ]
  },
  {
   "cell_type": "code",
   "execution_count": null,
   "metadata": {},
   "outputs": [],
   "source": [
    "# BMI [BMI] (명목) 변수 생성\n",
    "ky18['BMI'] = (ky18['WT'] / (ky18['HT'] / 100)**2)\n",
    "ky18.loc[ky18['BMI'] < 25, 'BMI'] = 0\n",
    "ky18.loc[ky18['BMI'] >= 25, 'BMI'] = 1\n",
    "ky18['BMI'] = ky18['BMI'].astype('category')\n",
    "print(ky18['BMI'].value_counts())\n",
    "print(\"==========================\")\n",
    "print(ky18['BMI'])"
   ]
  },
  {
   "cell_type": "code",
   "execution_count": null,
   "metadata": {},
   "outputs": [],
   "source": [
    "# 청건행 변수명을 국건영과 동일하게 바꾸기\n",
    "df = ky18.rename(columns = {'SEX':'sex','AGE':'age','PR_HT':'D_1_1','M_STR':'BP1','PR_BI':'BO1','PA_MSC':'BE5_1','M_SAD':'BP5', 'SLP_WK':'Total_slp_wd'})"
   ]
  },
  {
   "cell_type": "code",
   "execution_count": null,
   "metadata": {},
   "outputs": [],
   "source": [
    "# 필요한 Column만 불러오기\n",
    "df1 = df.loc[:,['sex', 'age', 'D_1_1', 'BP1', 'BO1', 'BE5_1', 'BP5', 'BMI', 'Total_slp_wd', 'SitTime']]\n",
    "df1.shape"
   ]
  },
  {
   "cell_type": "markdown",
   "metadata": {},
   "source": [
    "# 국건영 데이터 불러오기"
   ]
  },
  {
   "cell_type": "code",
   "execution_count": null,
   "metadata": {
    "colab": {
     "base_uri": "https://localhost:8080/",
     "height": 422
    },
    "id": "f702joOHTf2B",
    "outputId": "0a4ca8db-5d44-4fb1-a2e2-25ce4ea37c31",
    "scrolled": true
   },
   "outputs": [],
   "source": [
    "import pandas as pd \n",
    "import numpy as np\n",
    "df_a = pd.read_sas('hn16_all.sas7bdat')\n",
    "df_a"
   ]
  },
  {
   "cell_type": "code",
   "execution_count": null,
   "metadata": {
    "colab": {
     "base_uri": "https://localhost:8080/",
     "height": 422
    },
    "id": "qpq4nBZJUSia",
    "outputId": "426b621f-918f-4d7c-f536-79b176c3b6e1"
   },
   "outputs": [],
   "source": [
    "df_b = pd.read_sas('hn17_all.sas7bdat')\n",
    "df_b"
   ]
  },
  {
   "cell_type": "code",
   "execution_count": null,
   "metadata": {
    "colab": {
     "base_uri": "https://localhost:8080/",
     "height": 422
    },
    "id": "XjqaCLMPUWEL",
    "outputId": "71448365-ad27-4185-ad03-4482a2d5b96b"
   },
   "outputs": [],
   "source": [
    "df_c = pd.read_sas('hn18_all.sas7bdat')\n",
    "df_c"
   ]
  },
  {
   "cell_type": "markdown",
   "metadata": {},
   "source": [
    "# 국건영이랑 청건행 합친 후 최종 전처리"
   ]
  },
  {
   "cell_type": "code",
   "execution_count": null,
   "metadata": {
    "id": "dl8B9sbtVto-"
   },
   "outputs": [],
   "source": [
    "df_all = pd.concat([df_a,df_b,df_c])"
   ]
  },
  {
   "cell_type": "code",
   "execution_count": null,
   "metadata": {
    "id": "HMRWlSWMT0Gs"
   },
   "outputs": [],
   "source": [
    "df_att = df_all[[\"sex\",\"age\",\"D_1_1\",\"Total_slp_wd\",\"BP1\",\"BO1\",\"BE5_1\",\"BE8_1\",\"BE8_2\",\"BP5\",\"HE_ht\",\"HE_wt\"]]"
   ]
  },
  {
   "cell_type": "code",
   "execution_count": null,
   "metadata": {},
   "outputs": [],
   "source": [
    "# 인덱스 초기화\n",
    "df_att = df_att.reset_index()\n",
    "df_att = df_att.iloc[:,1:]\n",
    "df_att.shape"
   ]
  },
  {
   "cell_type": "code",
   "execution_count": null,
   "metadata": {
    "colab": {
     "base_uri": "https://localhost:8080/",
     "height": 351
    },
    "id": "KNP4PPeAl92H",
    "outputId": "716cc5a8-a29c-4314-fe0e-bb395360d33a"
   },
   "outputs": [],
   "source": [
    "df_att.info()"
   ]
  },
  {
   "cell_type": "code",
   "execution_count": null,
   "metadata": {
    "colab": {
     "base_uri": "https://localhost:8080/",
     "height": 756
    },
    "id": "hm3qyH2SW6ji",
    "outputId": "3996a031-2bd1-4832-c687-c6943a57632b"
   },
   "outputs": [],
   "source": [
    "# BMI [BMI] (명목) 변수 생성\n",
    "df_att['BMI'] = (df_att['HE_wt'] / (df_att['HE_ht'] / 100)**2)\n",
    "df_att.loc[df_att['BMI'] < 25, 'BMI'] = 0\n",
    "df_att.loc[df_att['BMI'] >= 25, 'BMI'] = 1\n",
    "print(df_att['BMI'].value_counts())\n",
    "print(\"==========================\")\n",
    "print(df_att['BMI'])"
   ]
  },
  {
   "cell_type": "code",
   "execution_count": null,
   "metadata": {
    "colab": {
     "base_uri": "https://localhost:8080/",
     "height": 369
    },
    "id": "0pXR8rlb3R74",
    "outputId": "2b63360d-7090-4b23-b8af-b148d503cd4c"
   },
   "outputs": [],
   "source": [
    "df_csn = df_att.loc[(df_att['age']>=12) & (df_att['age']<=18), :]  # 청소년 (만12세~18세) 데이터 생성\n",
    "df_csn.info()"
   ]
  },
  {
   "cell_type": "code",
   "execution_count": null,
   "metadata": {
    "colab": {
     "base_uri": "https://localhost:8080/",
     "height": 122
    },
    "id": "5c26HlGYW2il",
    "outputId": "527946b1-97cb-43d0-d32a-83493187ebbc"
   },
   "outputs": [],
   "source": [
    "# 하루 평균 앉아서 보내는 시간(분 단위) 변수 생성\n",
    "df_csn[\"SitTime\"] = df_csn[\"BE8_1\"]*60 + df_csn['BE8_2']"
   ]
  },
  {
   "cell_type": "code",
   "execution_count": null,
   "metadata": {
    "id": "uqIcgmkG3a2W"
   },
   "outputs": [],
   "source": [
    "df_att = pd.concat([df_csn,df1])\n",
    "df_att.shape"
   ]
  },
  {
   "cell_type": "code",
   "execution_count": null,
   "metadata": {
    "id": "Nss6l1pi3BW6"
   },
   "outputs": [],
   "source": [
    "df_att['BMI'] = df_att['BMI'].astype('category')"
   ]
  },
  {
   "cell_type": "code",
   "execution_count": null,
   "metadata": {
    "id": "gPKl3Z7jWy5t"
   },
   "outputs": [],
   "source": [
    "df_att.loc[(df_att['BE8_1'] == 88) |(df_att['BE8_1'] == 99) , 'BE8_1'] = np.nan \n",
    "df_att.loc[(df_att['BE8_2'] == 88) |(df_att['BE8_2'] == 99) , 'BE8_2'] = np.nan "
   ]
  },
  {
   "cell_type": "code",
   "execution_count": null,
   "metadata": {
    "colab": {
     "base_uri": "https://localhost:8080/",
     "height": 580
    },
    "id": "o9mSA5T1W0HL",
    "outputId": "b6929467-61d0-4729-cd68-a8f62ffa6426"
   },
   "outputs": [],
   "source": [
    "print(df_att['BE8_1'].value_counts())\n",
    "print(\"=\"*14)\n",
    "print(df_att['BE8_2'].value_counts())"
   ]
  },
  {
   "cell_type": "code",
   "execution_count": null,
   "metadata": {
    "id": "bL7j_0T-T-iq"
   },
   "outputs": [],
   "source": [
    "df_att = df_att.loc[:,['sex','age','D_1_1','BP1','BO1','BE5_1','BP5','BMI','Total_slp_wd','SitTime']]"
   ]
  },
  {
   "cell_type": "code",
   "execution_count": null,
   "metadata": {
    "colab": {
     "base_uri": "https://localhost:8080/",
     "height": 281
    },
    "id": "_QTy76DaXOkj",
    "outputId": "edda639f-116d-4b69-842e-1831bfbb6ece"
   },
   "outputs": [],
   "source": [
    "# 1주일간 근력운동 일수 (등간)\n",
    "print(df_att['BE5_1'].value_counts()) # 8 비해당 929명, 9 모름, 무응답 : 267명 -> NA\n",
    "df_att.loc[(df_att['BE5_1'] == 8) |(df_att['BE5_1'] == 9) , 'BE5_1'] = np.nan  #na 값 처리\n",
    "print(df_att['BE5_1'].value_counts())\n",
    "#df_att['BE5_1'].astype('int64') # na 제거하거나 대체하면 에러 안남. "
   ]
  },
  {
   "cell_type": "code",
   "execution_count": null,
   "metadata": {
    "colab": {
     "base_uri": "https://localhost:8080/",
     "height": 510
    },
    "id": "VGN4rMhhWaag",
    "outputId": "6ed27141-d355-4611-b5be-a1dd9ae848b6"
   },
   "outputs": [],
   "source": [
    "# 주관적 건강상태 [D_1_1]] (순서)\n",
    "from pandas.api.types import CategoricalDtype\n",
    "print(df_att['D_1_1'].value_counts())\n",
    "print(\"==========================\")\n",
    "df_att.loc[df_att['D_1_1'] == 9, 'D_1_1'] = np.nan\n",
    "df_att['D_1_1'] = df_att['D_1_1'].astype(CategoricalDtype(ordered=True))\n",
    "print(df_att['D_1_1'].value_counts())\n",
    "print(\"==========================\")\n",
    "print(df_att['D_1_1'])"
   ]
  },
  {
   "cell_type": "code",
   "execution_count": null,
   "metadata": {
    "colab": {
     "base_uri": "https://localhost:8080/",
     "height": 404
    },
    "id": "6DorAQSzWqk4",
    "outputId": "7280c848-564f-4f4f-b505-b39161012816"
   },
   "outputs": [],
   "source": [
    "# 2주 이상 연속 우울감 여부 [BP5] (명목)\n",
    "print(df_att['BP5'].value_counts())\n",
    "print(\"==========================\")\n",
    "df_att.loc[df_att['BP5'] == 8, 'BP5'] = np.nan\n",
    "df_att.loc[df_att['BP5'] == 9, 'BP5'] = np.nan\n",
    "df_att['BP5'] = df_att['BP5'].astype('category')\n",
    "print(df_att['BP5'].value_counts())\n",
    "print(\"==========================\")\n",
    "print(df_att['BP5'])"
   ]
  },
  {
   "cell_type": "code",
   "execution_count": null,
   "metadata": {
    "colab": {
     "base_uri": "https://localhost:8080/",
     "height": 474
    },
    "id": "q2B2bxVPXU8r",
    "outputId": "eb53e705-84d3-4694-d39c-cbb4f9b7f33d"
   },
   "outputs": [],
   "source": [
    "# 평소 스트레스 인지정도 [BP1] (순서)\n",
    "from pandas.api.types import CategoricalDtype\n",
    "print(df_att['BP1'].value_counts())\n",
    "print(\"==========================\")\n",
    "df_att.loc[df_att['BP1'] == 8, 'BP1'] = np.nan\n",
    "df_att.loc[df_att['BP1'] == 9, 'BP1'] = np.nan\n",
    "\n",
    "df_att['BP1'] = df_att['BP1'].astype(CategoricalDtype(ordered=True))\n",
    "print(df_att['BP1'].value_counts())\n",
    "print(\"==========================\")\n",
    "print(df_att['BP1'])"
   ]
  },
  {
   "cell_type": "code",
   "execution_count": null,
   "metadata": {
    "colab": {
     "base_uri": "https://localhost:8080/",
     "height": 510
    },
    "id": "yoZvgF9qXWCJ",
    "outputId": "b36ae381-3b4f-469e-9eb2-1d37e5ebf14b"
   },
   "outputs": [],
   "source": [
    "# 주관적 체형 인지 [BO1] (순서)\n",
    "from pandas.api.types import CategoricalDtype\n",
    "print(df_att['BO1'].value_counts())\n",
    "print(\"==========================\")\n",
    "df_att.loc[df_att['BO1'] == 8, 'BO1'] = np.nan\n",
    "df_att.loc[df_att['BO1'] == 9, 'BO1'] = np.nan\n",
    "\n",
    "df_att['BO1'] = df_att['BO1'].astype(CategoricalDtype(ordered=True))\n",
    "print(df_att['BO1'].value_counts())\n",
    "print(\"==========================\")\n",
    "print(df_att['BO1'])"
   ]
  },
  {
   "cell_type": "code",
   "execution_count": null,
   "metadata": {
    "colab": {
     "base_uri": "https://localhost:8080/",
     "height": 527
    },
    "id": "LC0nMDuL4OtF",
    "outputId": "b0329e3b-3fc7-4128-fb7e-8585919a0f3c"
   },
   "outputs": [],
   "source": [
    "# 1주일간 근력운동 일수 [BE5_1]] (순서)\n",
    "from pandas.api.types import CategoricalDtype\n",
    "print(df_att['BE5_1'].value_counts())\n",
    "print(\"==========================\")\n",
    "df_att['BE5_1'] = df_att['BE5_1'].astype(CategoricalDtype(ordered=True))\n",
    "print(df_att['BE5_1'].value_counts())\n",
    "print(\"==========================\")\n",
    "print(df_att['BE5_1'])"
   ]
  },
  {
   "cell_type": "code",
   "execution_count": null,
   "metadata": {
    "id": "rx2mMK3B34tl"
   },
   "outputs": [],
   "source": [
    "df_att['sex'] = df_att['sex'].astype('category')"
   ]
  },
  {
   "cell_type": "code",
   "execution_count": null,
   "metadata": {
    "colab": {
     "base_uri": "https://localhost:8080/",
     "height": 316
    },
    "id": "bOFM7ilAXXF3",
    "outputId": "1fc96ade-7098-4061-b1a3-8ffa2dfe7e4a"
   },
   "outputs": [],
   "source": [
    "df_att.info()"
   ]
  },
  {
   "cell_type": "markdown",
   "metadata": {
    "id": "uFjL09BdlkYu"
   },
   "source": [
    "# 결측치 처리\n",
    "### 결측치 제거 df_all\n",
    "### 평균값 대체 df_mean\n",
    "### 중앙값 대체 df_median\n",
    "### 최빈값 대체 df_mode"
   ]
  },
  {
   "cell_type": "code",
   "execution_count": null,
   "metadata": {
    "colab": {
     "base_uri": "https://localhost:8080/",
     "height": 402
    },
    "id": "e0sr7hC8li9H",
    "outputId": "6e7479b2-b12e-4dad-8885-55141122bb95"
   },
   "outputs": [],
   "source": [
    "# 결측치 제거\n",
    "df_new = df_att.dropna(axis=0)\n",
    "df_new = df_new.reset_index()\n",
    "\n",
    "from sklearn.preprocessing import StandardScaler\n",
    "transformer = StandardScaler()\n",
    "standard = transformer.fit_transform(df_new.loc[:,['Total_slp_wd','SitTime']])\n",
    "df_standard = pd.DataFrame(standard, columns = ['Total_slp_wd_standard','SitTime_standard'])\n",
    "df_standard = pd.concat([df_new, df_standard], axis = 1)\n",
    "df_standard\n",
    "\n",
    "from sklearn import preprocessing\n",
    "min_max_scaler = preprocessing.MinMaxScaler()\n",
    "scaled = min_max_scaler.fit_transform(df_new.loc[:,['Total_slp_wd','SitTime']])\n",
    "df_scaled = pd.DataFrame(scaled, columns = ['Total_slp_wd_scaled','SitTime_scaled'])\n",
    "df_all = pd.concat([df_standard, df_scaled], axis=1)\n",
    "df_all = df_all.iloc[:,1:]\n",
    "df_all"
   ]
  },
  {
   "cell_type": "code",
   "execution_count": null,
   "metadata": {
    "colab": {
     "base_uri": "https://localhost:8080/",
     "height": 600
    },
    "id": "yRy0dxYcmDnb",
    "outputId": "12937f22-0f02-4c52-cf2c-fd462d756ee5"
   },
   "outputs": [],
   "source": [
    "# 평균값 대체 df\n",
    "df_csn_mean = df_att.copy()\n",
    "\n",
    "print(df_csn_mean.isnull().sum())\n",
    "df_csn_mean.fillna({'D_1_1':int(df_csn_mean['D_1_1'].mode()),\n",
    "                    'BP1':int(df_csn_mean['BP1'].mode()),\n",
    "                    'BO1':int(df_csn_mean['BO1'].mode()),\n",
    "                    'BP5':int(df_csn_mean['BP5'].mode()),\n",
    "                    'BMI':int(df_csn_mean['BMI'].mode()),\n",
    "                    'BE5_1':int(df_csn_mean['BE5_1'].mode()),\n",
    "                    'age':int(df_csn_mean['age'].mean()),\n",
    "                    'Total_slp_wd':df_csn_mean['Total_slp_wd'].mean(),\n",
    "                    'SitTime':df_csn_mean['SitTime'].mean()}, inplace=True)\n",
    "print('========================')\n",
    "print(df_csn_mean.isnull().sum())\n",
    "\n",
    "# 평균값 대체 자료에 표준화 및 정규화\n",
    "\n",
    "## 인덱스 초기화\n",
    "df_csn_mean.reset_index(inplace=True)\n",
    "df_csn_mean = df_csn_mean.iloc[:,1:]\n",
    "\n",
    "## 정규화\n",
    "from sklearn.preprocessing import StandardScaler\n",
    "transformer = StandardScaler()\n",
    "standard = transformer.fit_transform(df_csn_mean.loc[:,['Total_slp_wd','SitTime']])\n",
    "df_standard = pd.DataFrame(standard, columns = ['Total_slp_wd_standard','SitTime_standard'])\n",
    "\n",
    "## Min-Max Scaling\n",
    "from sklearn import preprocessing\n",
    "min_max_scaler = preprocessing.MinMaxScaler()\n",
    "scaled = min_max_scaler.fit_transform(df_csn_mean.loc[:,['Total_slp_wd','SitTime']])\n",
    "df_scaled = pd.DataFrame(scaled, columns = ['Total_slp_wd_scaled','SitTime_scaled'])\n",
    "\n",
    "## 합치기\n",
    "df_mean = pd.concat([df_csn_mean, df_standard, df_scaled], axis=1)\n",
    "df_mean.head()"
   ]
  },
  {
   "cell_type": "code",
   "execution_count": null,
   "metadata": {
    "colab": {
     "base_uri": "https://localhost:8080/",
     "height": 600
    },
    "id": "wccFVZ52mDnn",
    "outputId": "a8e06229-f10c-45fd-ec7b-1227cb33b6f7"
   },
   "outputs": [],
   "source": [
    "# 중앙값 대체 df [df_median]\n",
    "\n",
    "df_csn_median = df_att.copy()\n",
    "\n",
    "print(df_csn_median.isnull().sum())\n",
    "df_csn_median.fillna({'D_1_1':int(df_csn_median['D_1_1'].mode()),\n",
    "                    'BP1':int(df_csn_median['BP1'].mode()),\n",
    "                    'BO1':int(df_csn_median['BO1'].mode()),\n",
    "                    'BP5':int(df_csn_median['BP5'].mode()),\n",
    "                    'BMI':int(df_csn_median['BMI'].mode()),\n",
    "                    'BE5_1':int(df_csn_median['BE5_1'].mode()),\n",
    "                    'age':int(df_csn_mean['age'].median()),\n",
    "                    'Total_slp_wd':df_csn_median['Total_slp_wd'].median(),\n",
    "                    'SitTime':df_csn_median['SitTime'].median()}, inplace=True)\n",
    "print('========================')\n",
    "print(df_csn_median.isnull().sum())\n",
    "\n",
    "## 인덱스 초기화\n",
    "df_csn_median.reset_index(inplace=True)\n",
    "df_csn_median = df_csn_median.iloc[:,1:]\n",
    "\n",
    "## 정규화\n",
    "from sklearn.preprocessing import StandardScaler\n",
    "transformer = StandardScaler()\n",
    "standard = transformer.fit_transform(df_csn_median.loc[:,['Total_slp_wd','SitTime']])\n",
    "df_standard = pd.DataFrame(standard, columns = ['Total_slp_wd_standard','SitTime_standard'])\n",
    "\n",
    "## Min-Max Scaling\n",
    "from sklearn import preprocessing\n",
    "min_max_scaler = preprocessing.MinMaxScaler()\n",
    "scaled = min_max_scaler.fit_transform(df_csn_median.loc[:,['Total_slp_wd','SitTime']])\n",
    "df_scaled = pd.DataFrame(scaled, columns = ['Total_slp_wd_scaled','SitTime_scaled'])\n",
    "\n",
    "## 합치기\n",
    "df_median = pd.concat([df_csn_median, df_standard, df_scaled], axis=1)\n",
    "df_median.head()"
   ]
  },
  {
   "cell_type": "code",
   "execution_count": null,
   "metadata": {
    "colab": {
     "base_uri": "https://localhost:8080/",
     "height": 620
    },
    "id": "dl3Fr-hCmDns",
    "outputId": "435d5786-20c7-4a10-f294-492117c7aeeb"
   },
   "outputs": [],
   "source": [
    "# 최빈값 대체 df [df_mode]\n",
    "df_csn_mode = df_att.copy()\n",
    "\n",
    "print(df_csn_mode.isnull().sum())\n",
    "df_csn_mode.fillna({'D_1_1':int(df_csn_mode['D_1_1'].mode()),\n",
    "                    'BP1':int(df_csn_mode['BP1'].mode()),\n",
    "                    'BO1':int(df_csn_mode['BO1'].mode()),\n",
    "                    'BP5':int(df_csn_mode['BP5'].mode()),\n",
    "                    'BMI':int(df_csn_mode['BMI'].mode()),\n",
    "                    'BE5_1':int(df_csn_mode['BE5_1'].mode()),\n",
    "                    'age':int(df_csn_mean['age'].mode()),\n",
    "                    'Total_slp_wd':float(df_csn_mode['Total_slp_wd'].mode()),\n",
    "                    'SitTime':float(df_csn_mode['SitTime'].mode())}, inplace=True)\n",
    "print('========================')\n",
    "print(df_csn_mode.isnull().sum())\n",
    "\n",
    "## 인덱스 초기화\n",
    "df_csn_mode.reset_index(inplace=True)\n",
    "df_csn_mode = df_csn_mode.iloc[:,1:]\n",
    "\n",
    "## 정규화\n",
    "from sklearn.preprocessing import StandardScaler\n",
    "transformer = StandardScaler()\n",
    "standard = transformer.fit_transform(df_csn_mode.loc[:,['Total_slp_wd','SitTime']])\n",
    "df_standard = pd.DataFrame(standard, columns = ['Total_slp_wd_standard','SitTime_standard'])\n",
    "\n",
    "## Min-Max Scaling\n",
    "from sklearn import preprocessing\n",
    "min_max_scaler = preprocessing.MinMaxScaler()\n",
    "scaled = min_max_scaler.fit_transform(df_csn_mode.loc[:,['Total_slp_wd','SitTime']])\n",
    "df_scaled = pd.DataFrame(scaled, columns = ['Total_slp_wd_scaled','SitTime_scaled'])\n",
    "\n",
    "## 합치기\n",
    "df_mode = pd.concat([df_csn_mode, df_standard, df_scaled], axis=1)\n",
    "df_mode.head()"
   ]
  },
  {
   "cell_type": "code",
   "execution_count": null,
   "metadata": {},
   "outputs": [],
   "source": [
    "#남자 \n",
    "df_all_b = df_all.loc[df_all[\"sex\"]==1,:]\n",
    "df_all_b = df_all_b.drop('sex', axis = 1)\n",
    "\n",
    "df_mean_b = df_mean.loc[df_mean[\"sex\"]==1,:]\n",
    "df_mean_b = df_mean_b.drop('sex', axis = 1)\n",
    "\n",
    "df_median_b = df_median.loc[df_median[\"sex\"]==1,:]\n",
    "df_median_b = df_median_b.drop('sex', axis = 1)\n",
    "\n",
    "df_mode_b = df_mode.loc[df_mode[\"sex\"]==1,:]\n",
    "df_mode_b = df_mode_b.drop('sex', axis = 1)\n",
    "\n",
    "df_all_b.shape, df_mean_b.shape, df_median_b.shape, df_mode_b.shape"
   ]
  },
  {
   "cell_type": "code",
   "execution_count": null,
   "metadata": {},
   "outputs": [],
   "source": [
    "#DU자 \n",
    "df_all_g = df_all.loc[df_all[\"sex\"]==2,:]\n",
    "df_all_g = df_all_g.drop('sex', axis = 1)\n",
    "\n",
    "df_mean_g = df_mean.loc[df_mean[\"sex\"]==2,:]\n",
    "df_mean_g = df_mean_g.drop('sex', axis = 1)\n",
    "\n",
    "df_median_g = df_median.loc[df_median[\"sex\"]==2,:]\n",
    "df_median_g = df_median_g.drop('sex', axis = 1)\n",
    "\n",
    "df_mode_g = df_mode.loc[df_mode[\"sex\"]==2,:]\n",
    "df_mode_g = df_mode_g.drop('sex', axis = 1)\n",
    "\n",
    "df_all_g.shape, df_mean_g.shape, df_median_g.shape, df_mode_g.shape"
   ]
  },
  {
   "cell_type": "markdown",
   "metadata": {
    "id": "h866p2Q0ZXxC"
   },
   "source": [
    "## 모델링"
   ]
  },
  {
   "cell_type": "markdown",
   "metadata": {
    "id": "qUdPveOU6-_6"
   },
   "source": [
    "### X에 표준화 및 정규화 또는 원형 머쓸지 골라서 drop하기"
   ]
  },
  {
   "cell_type": "code",
   "execution_count": null,
   "metadata": {
    "id": "DFxYkaODZW2Z"
   },
   "outputs": [],
   "source": [
    "X = df_mean_b.drop(['Total_slp_wd_scaled','SitTime_scaled','Total_slp_wd_standard','SitTime_standard','BMI'],axis='columns') \n",
    "y = df_mean_b['BMI']"
   ]
  },
  {
   "cell_type": "code",
   "execution_count": null,
   "metadata": {
    "colab": {
     "base_uri": "https://localhost:8080/",
     "height": 70
    },
    "id": "S_3OHXEFZxx0",
    "outputId": "c35378eb-714d-4dd0-f728-758c3c0604bb"
   },
   "outputs": [],
   "source": [
    "y.value_counts()"
   ]
  },
  {
   "cell_type": "code",
   "execution_count": null,
   "metadata": {
    "id": "fvRo-tv4ZyoW"
   },
   "outputs": [],
   "source": [
    "from sklearn.model_selection import train_test_split\n",
    "from sklearn.metrics import accuracy_score\n",
    "\n",
    "# test_size : 테스트 데이터셋의 비율(float)이나 갯수(int) \n",
    "X_train, X_test, y_train, y_test = train_test_split(X, y, test_size=0.25, stratify=y, random_state=3)"
   ]
  },
  {
   "cell_type": "code",
   "execution_count": null,
   "metadata": {
    "colab": {
     "base_uri": "https://localhost:8080/",
     "height": 34
    },
    "id": "QTIJONSbZz1U",
    "outputId": "45790079-d7da-4a0c-dd55-a9e20b5610a3"
   },
   "outputs": [],
   "source": [
    "X_train.shape, X_test.shape, y_train.shape, y_test.shape"
   ]
  },
  {
   "cell_type": "markdown",
   "metadata": {
    "id": "uN-1mByRfL4Z"
   },
   "source": [
    "## 예시: RandomForest"
   ]
  },
  {
   "cell_type": "code",
   "execution_count": null,
   "metadata": {},
   "outputs": [],
   "source": [
    "from sklearn.model_selection import GridSearchCV\n",
    "from sklearn.svm import SVC\n",
    " \n",
    "#최적 파라미터 값 찾기\n",
    "param_grid = {'C':[0.001, 0.01, 0.1,100], 'gamma':[0.001, 0.01, 0.1]}\n",
    "\n",
    "# 모델\n",
    "grid_search = GridSearchCV(SVC(),param_grid, cv=3, return_train_score = True)\n",
    "grid_search.fit(X_train, y_train)\n",
    "predicted = grid_cv.predict(X_test)\n",
    "print(confusion_matrix(y_test, predicted))\n",
    "print(model_evaluation(y_test, predicted))\n",
    "\n",
    "predicted = grid_search.predict(X_test)\n",
    "print(confusion_matrix(y_test, predicted))\n",
    "print(model_evaluation(y_test, predicted))\n",
    "\n",
    "print(\"best parameters : {}\".format(grid_search.best_params_))\n",
    "#print('최고 예측 정확도: {:.4f}'.format(grid_cv.best_score_))"
   ]
  },
  {
   "cell_type": "code",
   "execution_count": null,
   "metadata": {
    "id": "AbwC9hODeZQq"
   },
   "outputs": [],
   "source": [
    "from sklearn.ensemble import RandomForestClassifier\n",
    "from sklearn.model_selection import KFold, GridSearchCV\n",
    "\n",
    "#rf = RandomForestClassifier(n_estimators=100, oob_score=True, random_state=123456)\n",
    "#rf.fit(X_train, y_train)\n",
    "\n",
    "#최적 파라미터 값 찾기\n",
    "params = { 'n_estimators' : [10, 100],\n",
    "           'max_depth' : [6, 8, 10, 12],\n",
    "           'min_samples_leaf' : [8, 12, 18],\n",
    "           'min_samples_split' : [8, 16, 20]\n",
    "            }\n",
    "rf_clf = RandomForestClassifier(random_state = 0, n_jobs = -1)\n",
    "grid_cv = GridSearchCV(rf_clf, param_grid = params, cv = 5, n_jobs = -1)\n",
    "grid_cv.fit(X_train, y_train)\n",
    "\n",
    "predicted = grid_cv.predict(X_test)\n",
    "print(confusion_matrix(y_test, predicted))\n",
    "print(model_evaluation(y_test, predicted))\n",
    "\n",
    "print('최적 하이퍼 파라미터: ', grid_cv.best_params_)\n",
    "print('최고 예측 정확도: {:.4f}'.format(grid_cv.best_score_))"
   ]
  },
  {
   "cell_type": "code",
   "execution_count": null,
   "metadata": {
    "id": "71zqHTJrgVR9",
    "scrolled": true
   },
   "outputs": [],
   "source": [
    "rf_clf1 = RandomForestClassifier(max_depth = 10,\n",
    "                                min_samples_leaf = 12,\n",
    "                                min_samples_split = 8,\n",
    "                                n_estimators = 100,\n",
    "                                random_state = 0,\n",
    "                                n_jobs = -1)\n",
    "rf_clf1.fit(X_train, y_train)\n",
    "predicted = rf_clf1.predict(X_test)\n",
    "print(confusion_matrix(y_test, predicted))\n",
    "print(model_evaluation(y_test, predicted))"
   ]
  },
  {
   "cell_type": "markdown",
   "metadata": {},
   "source": [
    "# 간소화"
   ]
  },
  {
   "cell_type": "code",
   "execution_count": null,
   "metadata": {},
   "outputs": [],
   "source": [
    "# 간소화(KNN // 여 // CV=5)\n",
    "from sklearn.metrics import confusion_matrix\n",
    "\n",
    "def model_evaluation(label, predict):\n",
    "    cf_matrix = confusion_matrix(label, predict)\n",
    "    Accuracy = (cf_matrix[0][0] + cf_matrix[1][1]) / sum(sum(cf_matrix))\n",
    "    Precision = cf_matrix[1][1] / (cf_matrix[1][1] + cf_matrix[0][1])\n",
    "    Recall = cf_matrix[1][1] / (cf_matrix[1][1] + cf_matrix[1][0])\n",
    "    Specificity = cf_matrix[0][0] / (cf_matrix[0][0] + cf_matrix[0][1])\n",
    "    F1_Score = (2 * Recall * Precision) / (Recall + Precision)\n",
    "    \n",
    "    print(\"Accuracy: \", round(Accuracy,3))\n",
    "    print(\"Precision: \", round(Precision,3))\n",
    "    print(\"Recall: \", round(Recall,3))\n",
    "    print(\"Specificity: \", round(Specificity,3))\n",
    "    print(\"F1-Score: \", round(F1_Score,3))\n",
    "\n",
    "count = 0\n",
    "\n",
    "for df in [df_all_g, df_mean_g, df_median_g, df_mode_g]:\n",
    "    for column in [['Total_slp_wd_scaled','SitTime_scaled','Total_slp_wd_standard','SitTime_standard','BMI'],\n",
    "                                                    ['Total_slp_wd_scaled','SitTime_scaled','Total_slp_wd','SitTime','BMI'],\n",
    "                                                    ['Total_slp_wd_standard','SitTime_standard','Total_slp_wd','SitTime','BMI']]:\n",
    "        \n",
    "        count = count+1\n",
    "        \n",
    "        if count == 1 or count  == 2 or count == 3:\n",
    "            print('제목: df_all_g')\n",
    "        elif count == 4 or count  == 5 or count == 6:\n",
    "            print('제목: df_mean_g')\n",
    "        elif count == 7 or count  == 8 or count == 9:\n",
    "            print('제목: df_median_g')\n",
    "        elif count == 10 or count  == 11 or count == 12:\n",
    "            print('제목: df_mode_g')\n",
    "        \n",
    "        if count == 1 or count  == 4 or count == 7 or count == 10 :\n",
    "            print('데이터: 원본')\n",
    "        elif count == 2 or count  == 5 or count == 8 or count == 11:\n",
    "            print('제목: Standard')\n",
    "        elif count == 3 or count  == 6 or count == 9 or count == 12:\n",
    "            print('제목: Scaled')\n",
    "        \n",
    "        X = df.drop(column,axis=1) \n",
    "        y = df['BMI']\n",
    "\n",
    "        from sklearn.model_selection import train_test_split\n",
    "        from sklearn.metrics import accuracy_score\n",
    "\n",
    "        # test_size : 테스트 데이터셋의 비율(float)이나 갯수(int) \n",
    "        X_train, X_test, y_train, y_test = train_test_split(X, y, test_size=0.25, stratify=y, random_state=3)\n",
    "\n",
    "        from sklearn.ensemble import RandomForestClassifier\n",
    "        from sklearn.model_selection import KFold, GridSearchCV\n",
    "\n",
    "        #rf = RandomForestClassifier(n_estimators=100, oob_score=True, random_state=123456)\n",
    "        #rf.fit(X_train, y_train)\n",
    "\n",
    "        #최적 파라미터 값 찾기\n",
    "\n",
    "        from sklearn.neighbors import KNeighborsClassifier\n",
    "        knn_classifier = KNeighborsClassifier()        \n",
    "        knn_parameters = [{\n",
    "            'n_neighbors': [1, 3, 5, 7, 9, 11, 13, 15],\n",
    "            'leaf_size': [5, 10, 15, 20, 25, 30, 35, 40],\n",
    "            'weights': ['uniform', 'distance']}]\n",
    "        # Stratified k-fold (default for classifier)\n",
    "        # n = 5 folds is default\n",
    "        grid_cv = GridSearchCV(estimator = knn_classifier, param_grid = knn_parameters, cv=5, scoring='recall')\n",
    "        grid_cv.fit(X_train, y_train)\n",
    "\n",
    "        predicted = grid_cv.predict(X_test)\n",
    "        print(confusion_matrix(y_test, predicted))\n",
    "        print(model_evaluation(y_test, predicted))\n",
    "\n",
    "\n",
    "        print('최적 하이퍼 파라미터: ', grid_cv.best_params_)\n",
    "        #print('최고 예측 정확도: {:.4f}'.format(grid_cv.best_score_))\n",
    "        print('='*40)\n",
    "        print()"
   ]
  },
  {
   "cell_type": "code",
   "execution_count": null,
   "metadata": {},
   "outputs": [],
   "source": [
    "# 간소화 (RF // 남 // CV=5)\n",
    "from sklearn.metrics import confusion_matrix\n",
    "\n",
    "def model_evaluation(label, predict):\n",
    "    cf_matrix = confusion_matrix(label, predict)\n",
    "    Accuracy = (cf_matrix[0][0] + cf_matrix[1][1]) / sum(sum(cf_matrix))\n",
    "    Precision = cf_matrix[1][1] / (cf_matrix[1][1] + cf_matrix[0][1])\n",
    "    Recall = cf_matrix[1][1] / (cf_matrix[1][1] + cf_matrix[1][0])\n",
    "    Specificity = cf_matrix[0][0] / (cf_matrix[0][0] + cf_matrix[0][1])\n",
    "    F1_Score = (2 * Recall * Precision) / (Recall + Precision)\n",
    "    \n",
    "    print(\"Accuracy: \", round(Accuracy,3))\n",
    "    print(\"Precision: \", round(Precision,3))\n",
    "    print(\"Recall: \", round(Recall,3))\n",
    "    print(\"Specificity: \", round(Specificity,3))\n",
    "    print(\"F1-Score: \", round(F1_Score,3))\n",
    "\n",
    "count = 0\n",
    "\n",
    "for df in [df_all_b, df_mean_b, df_median_b, df_mode_b]:\n",
    "    for column in [['Total_slp_wd_scaled','SitTime_scaled','Total_slp_wd_standard','SitTime_standard','BMI'],\n",
    "                                                    ['Total_slp_wd_scaled','SitTime_scaled','Total_slp_wd','SitTime','BMI'],\n",
    "                                                    ['Total_slp_wd_standard','SitTime_standard','Total_slp_wd','SitTime','BMI']]:\n",
    "        \n",
    "        count = count+1\n",
    "        \n",
    "        if count == 1 or count  == 2 or count == 3:\n",
    "            print('제목: df_all_b')\n",
    "        elif count == 4 or count  == 5 or count == 6:\n",
    "            print('제목: df_mean_b')\n",
    "        elif count == 7 or count  == 8 or count == 9:\n",
    "            print('제목: df_median_b')\n",
    "        elif count == 10 or count  == 11 or count == 12:\n",
    "            print('제목: df_mode_b')\n",
    "        \n",
    "        if count == 1 or count  == 4 or count == 7 or count == 10 :\n",
    "            print('데이터: 원본')\n",
    "        elif count == 2 or count  == 5 or count == 8 or count == 11:\n",
    "            print('제목: Standard')\n",
    "        elif count == 3 or count  == 6 or count == 9 or count == 12:\n",
    "            print('제목: Scaled')\n",
    "        \n",
    "        X = df.drop(column,axis=1) \n",
    "        y = df['BMI']\n",
    "\n",
    "        from sklearn.model_selection import train_test_split\n",
    "        from sklearn.metrics import accuracy_score\n",
    "\n",
    "        # test_size : 테스트 데이터셋의 비율(float)이나 갯수(int) \n",
    "        X_train, X_test, y_train, y_test = train_test_split(X, y, test_size=0.25, stratify=y, random_state=3)\n",
    "\n",
    "        from sklearn.ensemble import RandomForestClassifier\n",
    "        from sklearn.model_selection import KFold, GridSearchCV\n",
    "\n",
    "        #rf = RandomForestClassifier(n_estimators=100, oob_score=True, random_state=123456)\n",
    "        #rf.fit(X_train, y_train)\n",
    "\n",
    "        #최적 파라미터 값 찾기\n",
    "        params = { 'n_estimators' : [10, 100],\n",
    "                   'max_depth' : [6, 8, 10, 12],\n",
    "                   'min_samples_leaf' : [8, 12, 18],\n",
    "                   'min_samples_split' : [8, 16, 20]\n",
    "                    }\n",
    "        rf_clf = RandomForestClassifier(random_state = 0, n_jobs = -1)\n",
    "        grid_cv = GridSearchCV(rf_clf, param_grid = params, cv = 5, n_jobs = -1)\n",
    "        grid_cv.fit(X_train, y_train)\n",
    "\n",
    "        predicted = grid_cv.predict(X_test)\n",
    "        print(confusion_matrix(y_test, predicted))\n",
    "        print(model_evaluation(y_test, predicted))\n",
    "\n",
    "        print('하이퍼 파라미터: ', grid_cv.best_params_)\n",
    "        #print('최고 예측 정확도: {:.4f}'.format(grid_cv.best_score_))\n",
    "        print('='*40)\n",
    "        print()"
   ]
  }
 ],
 "metadata": {
  "kernelspec": {
   "display_name": "Python 3",
   "language": "python",
   "name": "python3"
  },
  "language_info": {
   "codemirror_mode": {
    "name": "ipython",
    "version": 3
   },
   "file_extension": ".py",
   "mimetype": "text/x-python",
   "name": "python",
   "nbconvert_exporter": "python",
   "pygments_lexer": "ipython3",
   "version": "3.8.5"
  }
 },
 "nbformat": 4,
 "nbformat_minor": 4
}
